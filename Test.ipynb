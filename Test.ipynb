{
 "cells": [
  {
   "cell_type": "markdown",
   "metadata": {},
   "source": [
    "## Demo\n",
    "\n",
    "This notebook aims at demonstrating how to load a Python toolkit inside a Jupyter notebook.\n",
    "We assume that the library is in a zip file encoded as a csv - located on /tmp"
   ]
  },
  {
   "cell_type": "markdown",
   "metadata": {},
   "source": [
    "### Create a temp space"
   ]
  },
  {
   "cell_type": "code",
   "execution_count": 1,
   "metadata": {},
   "outputs": [
    {
     "name": "stdout",
     "output_type": "stream",
     "text": [
      "/Users/guillaumealleon/Work/ctypes\n",
      "/Users/guillaumealleon/Work/ctypes/0QdVrO\n"
     ]
    }
   ],
   "source": [
    "import os\n",
    "import tempfile\n",
    "\n",
    "print os.getcwd()\n",
    "\n",
    "here = os.getcwd() + '/'\n",
    "\n",
    "tmpdir = tempfile.mkdtemp(prefix=here)\n",
    "print tmpdir\n",
    "\n",
    "os.chdir(tmpdir)"
   ]
  },
  {
   "cell_type": "markdown",
   "metadata": {},
   "source": [
    "### Move the library"
   ]
  },
  {
   "cell_type": "code",
   "execution_count": 2,
   "metadata": {},
   "outputs": [
    {
     "name": "stdout",
     "output_type": "stream",
     "text": [
      "/Users/guillaumealleon/Work/ctypes/0QdVrO\r\n"
     ]
    }
   ],
   "source": [
    "!pwd"
   ]
  },
  {
   "cell_type": "code",
   "execution_count": 3,
   "metadata": {},
   "outputs": [
    {
     "name": "stdout",
     "output_type": "stream",
     "text": [
      "mytk.csv\r\n"
     ]
    }
   ],
   "source": [
    "!cp /tmp/mytk.zip.csv mytk.csv\n",
    "!ls"
   ]
  },
  {
   "cell_type": "markdown",
   "metadata": {},
   "source": [
    "### Transform the csv in zip file"
   ]
  },
  {
   "cell_type": "code",
   "execution_count": 4,
   "metadata": {
    "collapsed": true
   },
   "outputs": [],
   "source": [
    "import numpy as np\n",
    "import sys\n",
    "\n",
    "array = np.genfromtxt(\"mytk.csv\", dtype=np.int8, delimiter=\",\")\n",
    "\n",
    "array.tofile('mytk.csv.zip')"
   ]
  },
  {
   "cell_type": "markdown",
   "metadata": {},
   "source": [
    "### Unzip the file"
   ]
  },
  {
   "cell_type": "code",
   "execution_count": 5,
   "metadata": {},
   "outputs": [
    {
     "name": "stdout",
     "output_type": "stream",
     "text": [
      "mytk.csv     mytk.csv.zip\n",
      "Archive:  mytk.csv.zip\n",
      "  inflating: testlibwrapper.py       \n",
      "   creating: lib/\n",
      "  inflating: lib/x86_64-linux-gnu/libtestlib.so  \n",
      "total 40\n",
      "-rw-r--r--  1 guillaumealleon  staff  2522 Apr  5 22:15 mytk.csv.zip\n",
      "-rw-r--r--  1 guillaumealleon  staff  8865 Apr  5 22:15 mytk.csv\n",
      "drwxr-xr-x  3 guillaumealleon  staff   102 Apr  5 11:51 \u001b[34mlib\u001b[m\u001b[m\n",
      "-rw-r--r--  1 guillaumealleon  staff   169 Mar 25 10:30 testlibwrapper.py\n",
      "\n",
      "./lib:\n",
      "total 0\n",
      "drwxr-xr-x  3 guillaumealleon  staff  102 Apr  5 22:15 \u001b[34mx86_64-linux-gnu\u001b[m\u001b[m\n",
      "\n",
      "./lib/x86_64-linux-gnu:\n",
      "total 16\n",
      "-rwxr-xr-x  1 guillaumealleon  staff  5865 Apr  5 11:52 \u001b[31mlibtestlib.so\u001b[m\u001b[m\n"
     ]
    }
   ],
   "source": [
    "!ls\n",
    "!unzip mytk.csv.zip\n",
    "!ls -lRt"
   ]
  },
  {
   "cell_type": "markdown",
   "metadata": {},
   "source": [
    "### Use the library"
   ]
  },
  {
   "cell_type": "code",
   "execution_count": 7,
   "metadata": {},
   "outputs": [
    {
     "name": "stdout",
     "output_type": "stream",
     "text": [
      "None\n"
     ]
    },
    {
     "ename": "OSError",
     "evalue": "dlopen(lib/x86_64-linux-gnu/libtestlib.so, 6): no suitable image found.  Did find:\n\tlib/x86_64-linux-gnu/libtestlib.so: unknown file type, first eight bytes: 0x7F 0x45 0x4C 0x46 0x02 0x01 0x01 0x00\n\t/Users/guillaumealleon/Work/ctypes/0QdVrO/lib/x86_64-linux-gnu/libtestlib.so: unknown file type, first eight bytes: 0x7F 0x45 0x4C 0x46 0x02 0x01 0x01 0x00",
     "output_type": "error",
     "traceback": [
      "\u001b[0;31m---------------------------------------------------------------------------\u001b[0m",
      "\u001b[0;31mOSError\u001b[0m                                   Traceback (most recent call last)",
      "\u001b[0;32m<ipython-input-7-22f271338031>\u001b[0m in \u001b[0;36m<module>\u001b[0;34m()\u001b[0m\n\u001b[1;32m     11\u001b[0m \u001b[0;31m# Load the library\u001b[0m\u001b[0;34m\u001b[0m\u001b[0;34m\u001b[0m\u001b[0m\n\u001b[1;32m     12\u001b[0m \u001b[0;31m#\u001b[0m\u001b[0;34m\u001b[0m\u001b[0;34m\u001b[0m\u001b[0m\n\u001b[0;32m---> 13\u001b[0;31m \u001b[0mtestlib\u001b[0m \u001b[0;34m=\u001b[0m \u001b[0mctypes\u001b[0m\u001b[0;34m.\u001b[0m\u001b[0mCDLL\u001b[0m\u001b[0;34m(\u001b[0m\u001b[0mlib\u001b[0m\u001b[0;34m)\u001b[0m\u001b[0;34m\u001b[0m\u001b[0m\n\u001b[0m\u001b[1;32m     14\u001b[0m \u001b[0mtestlib\u001b[0m\u001b[0;34m.\u001b[0m\u001b[0mmyprint\u001b[0m\u001b[0;34m(\u001b[0m\u001b[0;34m)\u001b[0m\u001b[0;34m\u001b[0m\u001b[0m\n",
      "\u001b[0;32m/Users/guillaumealleon/miniconda3/envs/foundry/lib/python2.7/ctypes/__init__.pyc\u001b[0m in \u001b[0;36m__init__\u001b[0;34m(self, name, mode, handle, use_errno, use_last_error)\u001b[0m\n\u001b[1;32m    360\u001b[0m \u001b[0;34m\u001b[0m\u001b[0m\n\u001b[1;32m    361\u001b[0m         \u001b[0;32mif\u001b[0m \u001b[0mhandle\u001b[0m \u001b[0;32mis\u001b[0m \u001b[0mNone\u001b[0m\u001b[0;34m:\u001b[0m\u001b[0;34m\u001b[0m\u001b[0m\n\u001b[0;32m--> 362\u001b[0;31m             \u001b[0mself\u001b[0m\u001b[0;34m.\u001b[0m\u001b[0m_handle\u001b[0m \u001b[0;34m=\u001b[0m \u001b[0m_dlopen\u001b[0m\u001b[0;34m(\u001b[0m\u001b[0mself\u001b[0m\u001b[0;34m.\u001b[0m\u001b[0m_name\u001b[0m\u001b[0;34m,\u001b[0m \u001b[0mmode\u001b[0m\u001b[0;34m)\u001b[0m\u001b[0;34m\u001b[0m\u001b[0m\n\u001b[0m\u001b[1;32m    363\u001b[0m         \u001b[0;32melse\u001b[0m\u001b[0;34m:\u001b[0m\u001b[0;34m\u001b[0m\u001b[0m\n\u001b[1;32m    364\u001b[0m             \u001b[0mself\u001b[0m\u001b[0;34m.\u001b[0m\u001b[0m_handle\u001b[0m \u001b[0;34m=\u001b[0m \u001b[0mhandle\u001b[0m\u001b[0;34m\u001b[0m\u001b[0m\n",
      "\u001b[0;31mOSError\u001b[0m: dlopen(lib/x86_64-linux-gnu/libtestlib.so, 6): no suitable image found.  Did find:\n\tlib/x86_64-linux-gnu/libtestlib.so: unknown file type, first eight bytes: 0x7F 0x45 0x4C 0x46 0x02 0x01 0x01 0x00\n\t/Users/guillaumealleon/Work/ctypes/0QdVrO/lib/x86_64-linux-gnu/libtestlib.so: unknown file type, first eight bytes: 0x7F 0x45 0x4C 0x46 0x02 0x01 0x01 0x00"
     ]
    }
   ],
   "source": [
    "import ctypes\n",
    "import ctypes.util\n",
    "\n",
    "#\n",
    "# Locate the library\n",
    "#\n",
    "#lib = ctypes.util.find_library('testlib')\n",
    "lib = 'lib/x86_64-linux-gnu/libtestlib.so'\n",
    "#\n",
    "# Load the library\n",
    "#\n",
    "testlib = ctypes.CDLL(lib)\n",
    "testlib.myprint()"
   ]
  },
  {
   "cell_type": "markdown",
   "metadata": {},
   "source": [
    "### Remove tmpdir"
   ]
  },
  {
   "cell_type": "code",
   "execution_count": 8,
   "metadata": {
    "collapsed": true
   },
   "outputs": [],
   "source": [
    "import shutil\n",
    "os.chdir(here)\n",
    "shutil.rmtree(tmpdir)"
   ]
  },
  {
   "cell_type": "code",
   "execution_count": null,
   "metadata": {
    "collapsed": true
   },
   "outputs": [],
   "source": []
  }
 ],
 "metadata": {
  "kernelspec": {
   "display_name": "Python 2",
   "language": "python",
   "name": "python2"
  },
  "language_info": {
   "codemirror_mode": {
    "name": "ipython",
    "version": 2
   },
   "file_extension": ".py",
   "mimetype": "text/x-python",
   "name": "python",
   "nbconvert_exporter": "python",
   "pygments_lexer": "ipython2",
   "version": "2.7.13"
  }
 },
 "nbformat": 4,
 "nbformat_minor": 2
}
